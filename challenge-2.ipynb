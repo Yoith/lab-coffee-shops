{
 "cells": [
  {
   "cell_type": "markdown",
   "id": "0809e785",
   "metadata": {},
   "source": [
    "# 1. Import the necessary libraries for you to be able to query 4square API"
   ]
  },
  {
   "cell_type": "code",
   "execution_count": 2,
   "id": "9b373771",
   "metadata": {},
   "outputs": [
    {
     "name": "stderr",
     "output_type": "stream",
     "text": [
      "C:\\Users\\yoith\\AppData\\Local\\Temp\\ipykernel_17172\\2558897901.py:3: DeprecationWarning: \n",
      "Pyarrow will become a required dependency of pandas in the next major release of pandas (pandas 3.0),\n",
      "(to allow more performant data types, such as the Arrow string type, and better interoperability with other libraries)\n",
      "but was not found to be installed on your system.\n",
      "If this would cause problems for you,\n",
      "please provide us feedback at https://github.com/pandas-dev/pandas/issues/54466\n",
      "        \n",
      "  import pandas as pd\n"
     ]
    }
   ],
   "source": [
    "import requests\n",
    "import json\n",
    "import pandas as pd\n",
    "from getpass import getpass"
   ]
  },
  {
   "cell_type": "code",
   "execution_count": 3,
   "id": "01cf7fa9",
   "metadata": {},
   "outputs": [
    {
     "name": "stdout",
     "output_type": "stream",
     "text": [
      "········\n"
     ]
    }
   ],
   "source": [
    "token = getpass()"
   ]
  },
  {
   "cell_type": "markdown",
   "id": "e94dce92",
   "metadata": {},
   "source": [
    "# 2. Get names and location of the 10 coffee places by passing Ironhack as your location"
   ]
  },
  {
   "cell_type": "code",
   "execution_count": 23,
   "id": "3510ecd1",
   "metadata": {
    "scrolled": true
   },
   "outputs": [
    {
     "data": {
      "text/plain": [
       "{'results': [{'geocodes': {'drop_off': {'latitude': 41.408186,\n",
       "     'longitude': 2.187152},\n",
       "    'main': {'latitude': 41.408186, 'longitude': 2.187206},\n",
       "    'roof': {'latitude': 41.408186, 'longitude': 2.187206}},\n",
       "   'name': 'Cafeteria 365'},\n",
       "  {'geocodes': {'main': {'latitude': 41.396101, 'longitude': 2.18999}},\n",
       "   'name': 'Cafeteria P99'},\n",
       "  {'geocodes': {'main': {'latitude': 41.400669, 'longitude': 2.174503},\n",
       "    'roof': {'latitude': 41.400669, 'longitude': 2.174503}},\n",
       "   'name': 'Cafeteria Xue'},\n",
       "  {'geocodes': {'main': {'latitude': 41.406071, 'longitude': 2.209117},\n",
       "    'roof': {'latitude': 41.406071, 'longitude': 2.209117}},\n",
       "   'name': 'Cafeteria K2'},\n",
       "  {'geocodes': {'drop_off': {'latitude': 41.399274, 'longitude': 2.195294},\n",
       "    'main': {'latitude': 41.399175, 'longitude': 2.195368},\n",
       "    'roof': {'latitude': 41.399175, 'longitude': 2.195368}},\n",
       "   'name': 'Cafeteria Industrial'},\n",
       "  {'geocodes': {'drop_off': {'latitude': 41.402673, 'longitude': 2.158764},\n",
       "    'main': {'latitude': 41.402644, 'longitude': 2.158782},\n",
       "    'roof': {'latitude': 41.402644, 'longitude': 2.158782}},\n",
       "   'name': 'La Nena'},\n",
       "  {'geocodes': {'drop_off': {'latitude': 41.376742, 'longitude': 2.162954},\n",
       "    'main': {'latitude': 41.376847, 'longitude': 2.162878},\n",
       "    'roof': {'latitude': 41.376847, 'longitude': 2.162878}},\n",
       "   'name': 'Federal Café'},\n",
       "  {'geocodes': {'drop_off': {'latitude': 41.434016, 'longitude': 2.189279},\n",
       "    'main': {'latitude': 41.434124, 'longitude': 2.189294},\n",
       "    'roof': {'latitude': 41.434124, 'longitude': 2.189294}},\n",
       "   'name': 'Club del Cafè Sant Andreu'},\n",
       "  {'geocodes': {'main': {'latitude': 41.348221, 'longitude': 2.107895},\n",
       "    'roof': {'latitude': 41.348221, 'longitude': 2.107895}},\n",
       "   'name': '365.Cafè'},\n",
       "  {'geocodes': {'drop_off': {'latitude': 41.387384, 'longitude': 2.168585},\n",
       "    'main': {'latitude': 41.387278, 'longitude': 2.168541}},\n",
       "   'name': 'Café Café'}],\n",
       " 'context': {'geo_bounds': {'circle': {'center': {'latitude': 41.3977461,\n",
       "     'longitude': 2.1876744},\n",
       "    'radius': 22000}}}}"
      ]
     },
     "execution_count": 23,
     "metadata": {},
     "output_type": "execute_result"
    }
   ],
   "source": [
    "def find_10_coffes (venue, lat, lon):\n",
    "    \n",
    "    \n",
    "    \n",
    "    url = f\"https://api.foursquare.com/v3/places/search?query={venue}&ll={lat}%2C{lon}&fields=name%2Cgeocodes&limit=10\"\n",
    "\n",
    "    headers = {\n",
    "        \"accept\": \"application/json\",\n",
    "        \"Authorization\": token\n",
    "    }\n",
    "    \n",
    "   \n",
    "\n",
    "    response = requests.get(url, headers=headers).json()\n",
    "\n",
    "    return response\n",
    "\n",
    "result_coffee = find_10_coffes (\"cafeteria\", \"41.3977461\",\"2.1876744\")\n",
    "result_coffee"
   ]
  },
  {
   "cell_type": "markdown",
   "id": "941b5dbf",
   "metadata": {},
   "source": [
    "# 3. Now get the 5 CLOSEST coffe places. Make use of params: limit, near?"
   ]
  },
  {
   "cell_type": "code",
   "execution_count": 24,
   "id": "fda8ddff",
   "metadata": {
    "scrolled": false
   },
   "outputs": [
    {
     "data": {
      "text/plain": [
       "{'results': [{'geocodes': {'drop_off': {'latitude': 41.408186,\n",
       "     'longitude': 2.187152},\n",
       "    'main': {'latitude': 41.408186, 'longitude': 2.187206},\n",
       "    'roof': {'latitude': 41.408186, 'longitude': 2.187206}},\n",
       "   'name': 'Cafeteria 365'},\n",
       "  {'geocodes': {'main': {'latitude': 41.396101, 'longitude': 2.18999}},\n",
       "   'name': 'Cafeteria P99'},\n",
       "  {'geocodes': {'main': {'latitude': 41.400669, 'longitude': 2.174503},\n",
       "    'roof': {'latitude': 41.400669, 'longitude': 2.174503}},\n",
       "   'name': 'Cafeteria Xue'},\n",
       "  {'geocodes': {'main': {'latitude': 41.406071, 'longitude': 2.209117},\n",
       "    'roof': {'latitude': 41.406071, 'longitude': 2.209117}},\n",
       "   'name': 'Cafeteria K2'},\n",
       "  {'geocodes': {'drop_off': {'latitude': 41.399274, 'longitude': 2.195294},\n",
       "    'main': {'latitude': 41.399175, 'longitude': 2.195368},\n",
       "    'roof': {'latitude': 41.399175, 'longitude': 2.195368}},\n",
       "   'name': 'Cafeteria Industrial'}],\n",
       " 'context': {'geo_bounds': {'circle': {'center': {'latitude': 41.3977461,\n",
       "     'longitude': 2.1876744},\n",
       "    'radius': 22000}}}}"
      ]
     },
     "execution_count": 24,
     "metadata": {},
     "output_type": "execute_result"
    }
   ],
   "source": [
    "\n",
    "def find_5_coffes (venue, lat, lon):\n",
    "    \n",
    "    url = f\"https://api.foursquare.com/v3/places/search?query={venue}&ll={lat}%2C{lon}&fields=name%2Cgeocodes&limit=5\"\n",
    "\n",
    "    headers = {\n",
    "        \"accept\": \"application/json\",\n",
    "        \"Authorization\": token\n",
    "    }\n",
    "    \n",
    "   \n",
    "\n",
    "    response = requests.get(url, headers=headers).json()\n",
    "\n",
    "    return response\n",
    "\n",
    "result_coffee = find_5_coffes (\"cafeteria\", \"41.3977461\",\"2.1876744\")\n",
    "result_coffee"
   ]
  },
  {
   "cell_type": "markdown",
   "id": "d19904e8",
   "metadata": {},
   "source": [
    "# 4. You're very drained from the bootcamp. You need to find a bar where you are right now. "
   ]
  },
  {
   "cell_type": "markdown",
   "id": "24e81d17",
   "metadata": {},
   "source": [
    "But your colleague needs to find starbucks to work on the bonus. Your other colleage is not sure about what they want. Create a function so that you can pass any given venue (startbucks, restaurants, bars...) for any given location passed as coordinates. Limit your queries to 3."
   ]
  },
  {
   "cell_type": "code",
   "execution_count": 32,
   "id": "1fad5153",
   "metadata": {},
   "outputs": [
    {
     "data": {
      "text/plain": [
       "{'results': [{'name': 'Laser tag Barco Pirata'}, {'name': 'SOME COFFEE BAR'}],\n",
       " 'context': {'geo_bounds': {'circle': {'center': {'latitude': 41.0,\n",
       "     'longitude': 2.0},\n",
       "    'radius': 22000}}}}"
      ]
     },
     "execution_count": 32,
     "metadata": {},
     "output_type": "execute_result"
    }
   ],
   "source": [
    "\n",
    "def foursquare_places (venue, lat, lon, number):\n",
    "    url = f\"https://api.foursquare.com/v3/places/search?query={venue}&ll={lat}%2C{lon}&fields=name&limit={number}\"\n",
    "\n",
    "    headers = {\n",
    "        \"accept\": \"application/json\",\n",
    "        \"Authorization\": token\n",
    "    }\n",
    "    \n",
    "    response = requests.get(url, headers=headers).json()\n",
    "\n",
    "    return response\n",
    "\n",
    "bar = foursquare_places (\"bar\", \"41\",\"2\", \"3\")\n",
    "bar"
   ]
  },
  {
   "cell_type": "code",
   "execution_count": 42,
   "id": "eee28be1",
   "metadata": {},
   "outputs": [
    {
     "data": {
      "text/plain": [
       "{'results': [{'name': 'El Tilo'},\n",
       "  {'name': 'La Parada de Bilbao'},\n",
       "  {'name': 'Nerbión Café-Bar'}],\n",
       " 'context': {'geo_bounds': {'circle': {'center': {'latitude': 43.0,\n",
       "     'longitude': -3.0},\n",
       "    'radius': 22000}}}}"
      ]
     },
     "execution_count": 42,
     "metadata": {},
     "output_type": "execute_result"
    }
   ],
   "source": [
    "# ej:  drinks = foursquare_places (\"starbucks\", [43, -3])\n",
    "\n",
    "def foursquare_places (venue, lat, lon, limit):\n",
    "    url = f\"https://api.foursquare.com/v3/places/search?query={venue}&ll={lat}%2C{lon}&fields=name&limit={limit}\"\n",
    "\n",
    "    headers = {\n",
    "        \"accept\": \"application/json\",\n",
    "        \"Authorization\": token\n",
    "    }\n",
    "    \n",
    "    response = requests.get(url, headers=headers).json()\n",
    "\n",
    "    return response\n",
    "\n",
    "\n",
    "coffes = foursquare_places (\"cafe\", \"43\",\"-3\", \"3\")\n",
    "\n",
    "coffes"
   ]
  },
  {
   "cell_type": "markdown",
   "id": "1836c1a1",
   "metadata": {},
   "source": [
    "# 5. Export it into data folder as a json: `data/coffe_or_alcohol.json`"
   ]
  },
  {
   "cell_type": "markdown",
   "id": "c3ada1da",
   "metadata": {},
   "source": [
    "Call the function for your colleague, who wanted starbucks, and export the results of the three starbucks into a json file"
   ]
  },
  {
   "cell_type": "code",
   "execution_count": 43,
   "id": "7ac5f2a8",
   "metadata": {},
   "outputs": [
    {
     "name": "stdout",
     "output_type": "stream",
     "text": [
      "El archivo JSON se ha guardado en: data\\data_exported.json\n"
     ]
    }
   ],
   "source": [
    "\n",
    "import json\n",
    "import os\n",
    "\n",
    "\n",
    "folder_path = 'data'\n",
    "file_name = 'data_exported.json'\n",
    "file_path = os.path.join(folder_path, file_name)\n",
    "\n",
    "\n",
    "if not os.path.exists(folder_path):\n",
    "    os.makedirs(folder_path)\n",
    "\n",
    "with open(file_path, 'w') as json_file:\n",
    "    json.dump(coffes, json_file)\n",
    "\n",
    "print(f\"The JSON file is saved in: {file_path}\")"
   ]
  },
  {
   "cell_type": "markdown",
   "id": "2d77e99d",
   "metadata": {},
   "source": [
    "# BONUS: load it into MongoDB in a collection named \"irondrinks\" using pymongo"
   ]
  },
  {
   "cell_type": "code",
   "execution_count": null,
   "id": "85b94955",
   "metadata": {},
   "outputs": [],
   "source": [
    "# your code here"
   ]
  }
 ],
 "metadata": {
  "kernelspec": {
   "display_name": "ironhack",
   "language": "python",
   "name": "ironhack"
  },
  "language_info": {
   "codemirror_mode": {
    "name": "ipython",
    "version": 3
   },
   "file_extension": ".py",
   "mimetype": "text/x-python",
   "name": "python",
   "nbconvert_exporter": "python",
   "pygments_lexer": "ipython3",
   "version": "3.11.5"
  },
  "nbTranslate": {
   "displayLangs": [
    "en",
    "es"
   ],
   "hotkey": "alt-a",
   "langInMainMenu": true,
   "sourceLang": "es",
   "targetLang": "en",
   "useGoogleTranslate": true
  },
  "toc": {
   "base_numbering": 1,
   "nav_menu": {},
   "number_sections": true,
   "sideBar": true,
   "skip_h1_title": false,
   "title_cell": "Table of Contents",
   "title_sidebar": "Contents",
   "toc_cell": false,
   "toc_position": {},
   "toc_section_display": true,
   "toc_window_display": false
  }
 },
 "nbformat": 4,
 "nbformat_minor": 5
}
